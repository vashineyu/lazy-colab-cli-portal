{
  "nbformat": 4,
  "nbformat_minor": 0,
  "metadata": {
    "colab": {
      "name": "connect-colab.ipynb",
      "provenance": [],
      "collapsed_sections": []
    },
    "kernelspec": {
      "name": "python3",
      "display_name": "Python 3"
    },
    "accelerator": "GPU"
  },
  "cells": [
    {
      "cell_type": "code",
      "metadata": {
        "id": "w1iGM1FY6ma5",
        "colab_type": "code",
        "colab": {
          "base_uri": "https://localhost:8080/",
          "height": 119
        },
        "outputId": "89d66da3-be69-43a6-9777-1fc7c444cddd"
      },
      "source": [
        "!git clone https://github.com/vashineyu/lazy_colab_cli_portal"
      ],
      "execution_count": null,
      "outputs": [
        {
          "output_type": "stream",
          "text": [
            "Cloning into 'lazy_colab_cli_portal'...\n",
            "remote: Enumerating objects: 28, done.\u001b[K\n",
            "remote: Counting objects: 100% (28/28), done.\u001b[K\n",
            "remote: Compressing objects: 100% (21/21), done.\u001b[K\n",
            "remote: Total 28 (delta 14), reused 17 (delta 6), pack-reused 0\u001b[K\n",
            "Unpacking objects: 100% (28/28), done.\n"
          ],
          "name": "stdout"
        }
      ]
    },
    {
      "cell_type": "code",
      "metadata": {
        "id": "ECNpc4Et6sG2",
        "colab_type": "code",
        "colab": {}
      },
      "source": [
        "from lazy_colab_cli_portal.portal import Portal\n",
        "import getpass"
      ],
      "execution_count": null,
      "outputs": []
    },
    {
      "cell_type": "code",
      "metadata": {
        "id": "fulOjyqJ7ZS5",
        "colab_type": "code",
        "colab": {
          "base_uri": "https://localhost:8080/",
          "height": 34
        },
        "outputId": "113b7e1d-7df1-4ac9-8925-f838f2336832"
      },
      "source": [
        "authtoken = getpass.getpass()\n",
        "password = \"iamportal\""
      ],
      "execution_count": null,
      "outputs": [
        {
          "output_type": "stream",
          "text": [
            "··········\n"
          ],
          "name": "stdout"
        }
      ]
    },
    {
      "cell_type": "code",
      "metadata": {
        "id": "ZUWJmLm27iAc",
        "colab_type": "code",
        "colab": {
          "base_uri": "https://localhost:8080/",
          "height": 34
        },
        "outputId": "5da8df1f-4409-4686-bfce-e8dcce13c51c"
      },
      "source": [
        "# init_portal(password=password, ngrok_auth=authtoken, ipy_shell=get_ipython())\n",
        "portal = Portal(ipy_shell=get_ipython(), password=password, ngrok_auth=authtoken)"
      ],
      "execution_count": null,
      "outputs": [
        {
          "output_type": "stream",
          "text": [
            "Connection Link: ssh -p 19172 root@0.tcp.ngrok.io\n"
          ],
          "name": "stdout"
        }
      ]
    }
  ]
}